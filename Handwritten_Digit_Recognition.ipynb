{
 "cells": [
  {
   "cell_type": "code",
   "execution_count": 1,
   "id": "1c14eb36-de46-4d5c-88e5-6003827b8142",
   "metadata": {
    "tags": []
   },
   "outputs": [
    {
     "name": "stdout",
     "output_type": "stream",
     "text": [
      "Requirement already satisfied: wrapt in c:\\users\\raula\\anaconda3\\lib\\site-packages (1.15.0)\n"
     ]
    }
   ],
   "source": [
    "!pip install wrapt"
   ]
  },
  {
   "cell_type": "code",
   "execution_count": 2,
   "id": "924f5ad0-74ec-4915-9153-f7c071a3d8ce",
   "metadata": {},
   "outputs": [],
   "source": [
    "import tensorflow as tf\n",
    "from sklearn.model_selection import train_test_split\n",
    "from sklearn.metrics import accuracy_score\n",
    "import numpy as np\n",
    "import matplotlib.pyplot as plt"
   ]
  },
  {
   "cell_type": "code",
   "execution_count": 3,
   "id": "fd5aa972-d915-4fae-a13f-fb5a48842bd7",
   "metadata": {},
   "outputs": [],
   "source": [
    "# Load the MNIST dataset\n",
    "mnist = tf.keras.datasets.mnist\n",
    "(X_train, y_train), (X_test, y_test) = mnist.load_data()\n",
    "\n",
    "X_train = X_train / 255.0\n",
    "X_test = X_test / 255.0\n",
    "X_train = np.expand_dims(X_train, axis=-1)\n",
    "X_test = np.expand_dims(X_test, axis=-1)\n",
    "\n",
    "# Split the data into training and validation sets\n",
    "X_train, X_val, y_train, y_val = train_test_split(X_train, y_train, test_size=0.2, random_state=42)"
   ]
  },
  {
   "cell_type": "code",
   "execution_count": 4,
   "id": "0a86c4ae-7897-4356-8365-5992f595210e",
   "metadata": {
    "tags": []
   },
   "outputs": [
    {
     "name": "stdout",
     "output_type": "stream",
     "text": [
      "Epoch 1/10\n",
      "375/375 [==============================] - 19s 49ms/step - loss: 0.2627 - accuracy: 0.9225 - val_loss: 0.0821 - val_accuracy: 0.9754\n",
      "Epoch 2/10\n",
      "375/375 [==============================] - 17s 46ms/step - loss: 0.0683 - accuracy: 0.9791 - val_loss: 0.0562 - val_accuracy: 0.9831\n",
      "Epoch 3/10\n",
      "375/375 [==============================] - 20s 52ms/step - loss: 0.0491 - accuracy: 0.9851 - val_loss: 0.0583 - val_accuracy: 0.9812\n",
      "Epoch 4/10\n",
      "375/375 [==============================] - 18s 47ms/step - loss: 0.0379 - accuracy: 0.9882 - val_loss: 0.0501 - val_accuracy: 0.9860\n",
      "Epoch 5/10\n",
      "375/375 [==============================] - 17s 46ms/step - loss: 0.0311 - accuracy: 0.9901 - val_loss: 0.0413 - val_accuracy: 0.9879\n",
      "Epoch 6/10\n",
      "375/375 [==============================] - 16s 43ms/step - loss: 0.0236 - accuracy: 0.9924 - val_loss: 0.0420 - val_accuracy: 0.9869\n",
      "Epoch 7/10\n",
      "375/375 [==============================] - 18s 47ms/step - loss: 0.0199 - accuracy: 0.9937 - val_loss: 0.0384 - val_accuracy: 0.9883\n",
      "Epoch 8/10\n",
      "375/375 [==============================] - 18s 49ms/step - loss: 0.0163 - accuracy: 0.9950 - val_loss: 0.0400 - val_accuracy: 0.9871\n",
      "Epoch 9/10\n",
      "375/375 [==============================] - 17s 45ms/step - loss: 0.0151 - accuracy: 0.9950 - val_loss: 0.0379 - val_accuracy: 0.9880\n",
      "Epoch 10/10\n",
      "375/375 [==============================] - 17s 45ms/step - loss: 0.0105 - accuracy: 0.9969 - val_loss: 0.0385 - val_accuracy: 0.9899\n"
     ]
    },
    {
     "data": {
      "text/plain": [
       "<keras.src.callbacks.History at 0x1ee0013c880>"
      ]
     },
     "execution_count": 4,
     "metadata": {},
     "output_type": "execute_result"
    }
   ],
   "source": [
    "# Define the model architecture\n",
    "model = tf.keras.Sequential([\n",
    "    tf.keras.layers.Conv2D(32, (3, 3), activation='relu', input_shape=(28, 28, 1)),\n",
    "    tf.keras.layers.MaxPooling2D((2, 2)),\n",
    "    tf.keras.layers.Conv2D(64, (3, 3), activation='relu'),\n",
    "    tf.keras.layers.MaxPooling2D((2, 2)),\n",
    "    tf.keras.layers.Flatten(),\n",
    "    tf.keras.layers.Dense(64, activation='relu'),\n",
    "    tf.keras.layers.Dense(10, activation='softmax')\n",
    "])\n",
    "\n",
    "# Compile the model\n",
    "model.compile(optimizer='adam', loss='sparse_categorical_crossentropy', metrics=['accuracy'])\n",
    "\n",
    "# Train the model\n",
    "model.fit(X_train, y_train, validation_data=(X_val, y_val), epochs=10, batch_size=128)"
   ]
  },
  {
   "cell_type": "code",
   "execution_count": 5,
   "id": "d9a3a3de-3141-4e95-b449-402cc4444f6f",
   "metadata": {},
   "outputs": [
    {
     "name": "stdout",
     "output_type": "stream",
     "text": [
      "313/313 [==============================] - 2s 5ms/step - loss: 0.0307 - accuracy: 0.9909\n",
      "Test Accuracy: 0.9908999800682068\n"
     ]
    }
   ],
   "source": [
    "# Evaluate the model on the test set\n",
    "_, test_accuracy = model.evaluate(X_test, y_test)\n",
    "print(f\"Test Accuracy: {test_accuracy}\")"
   ]
  },
  {
   "cell_type": "code",
   "execution_count": 6,
   "id": "f66a8891-d3e5-4053-a741-19937268b158",
   "metadata": {},
   "outputs": [
    {
     "name": "stdout",
     "output_type": "stream",
     "text": [
      "313/313 [==============================] - 1s 4ms/step\n",
      "Accuracy: 0.9909\n"
     ]
    }
   ],
   "source": [
    "# Make predictions on the test set\n",
    "y_pred = np.argmax(model.predict(X_test), axis=-1)\n",
    "\n",
    "# Calculate accuracy\n",
    "accuracy = accuracy_score(y_test, y_pred)\n",
    "print(f\"Accuracy: {accuracy}\")"
   ]
  },
  {
   "cell_type": "code",
   "execution_count": 7,
   "id": "b2e4d9df-d733-475f-9db7-ed8074ef6e9b",
   "metadata": {
    "tags": []
   },
   "outputs": [
    {
     "data": {
      "image/png": "[encoded data removed]",
      "text/plain": [
       "<Figure size 1200x600 with 10 Axes>"
      ]
     },
     "metadata": {},
     "output_type": "display_data"
    }
   ],
   "source": [
    "# Display a sample of images with their predicted labels\n",
    "sample_images = X_test[:10]\n",
    "sample_labels = y_pred[:10]\n",
    "\n",
    "fig, axes = plt.subplots(2, 5, figsize=(12, 6))\n",
    "for i, (image, label) in enumerate(zip(sample_images, sample_labels)):\n",
    "    ax = axes[i // 5, i % 5]\n",
    "    ax.imshow(np.squeeze(image), cmap=plt.cm.gray_r)\n",
    "    ax.axis('off')\n",
    "    ax.set_title(f\"Predicted: {label}\")\n",
    "plt.show()"
   ]
  }
 ],
 "metadata": {
  "kernelspec": {
   "display_name": "Python 3 (ipykernel)",
   "language": "python",
   "name": "python3"
  },
  "language_info": {
   "codemirror_mode": {
    "name": "ipython",
    "version": 3
   },
   "file_extension": ".py",
   "mimetype": "text/x-python",
   "name": "python",
   "nbconvert_exporter": "python",
   "pygments_lexer": "ipython3",
   "version": "3.10.9"
  }
 },
 "nbformat": 4,
 "nbformat_minor": 5
}
